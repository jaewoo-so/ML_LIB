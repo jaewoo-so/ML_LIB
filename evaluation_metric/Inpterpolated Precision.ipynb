{
 "cells": [
  {
   "cell_type": "code",
   "execution_count": 17,
   "metadata": {},
   "outputs": [],
   "source": [
    "import numpy as np\n",
    "import matplotlib.pyplot as plt"
   ]
  },
  {
   "cell_type": "code",
   "execution_count": 18,
   "metadata": {},
   "outputs": [],
   "source": [
    "#just a dummy sample\n",
    "recall=np.linspace(0.0,1.0,num=42)\n",
    "precision=np.random.rand(42)*(1.-recall)\n",
    "precision2=precision.copy()\n",
    "i=recall.shape[0]-2"
   ]
  },
  {
   "cell_type": "code",
   "execution_count": 19,
   "metadata": {},
   "outputs": [
    {
     "data": {
      "text/plain": [
       "array([0.48048619, 0.56717215, 0.0104304 , 0.0248886 , 0.4610409 ,\n",
       "       0.00317773, 0.6496434 , 0.78428674, 0.36327478, 0.77672942,\n",
       "       0.48169797, 0.4456571 , 0.16255274, 0.54093455, 0.53884997,\n",
       "       0.41624837, 0.22469651, 0.42248474, 0.3017678 , 0.39393002,\n",
       "       0.20582254, 0.37854956, 0.17902499, 0.43817724, 0.33853787,\n",
       "       0.29154343, 0.10611131, 0.18249188, 0.18883758, 0.09374139,\n",
       "       0.06719112, 0.04388051, 0.04147622, 0.08614442, 0.07657112,\n",
       "       0.06628518, 0.03859079, 0.07195661, 0.04872245, 0.02433865,\n",
       "       0.01656821, 0.        ])"
      ]
     },
     "execution_count": 19,
     "metadata": {},
     "output_type": "execute_result"
    }
   ],
   "source": [
    "precision"
   ]
  },
  {
   "cell_type": "code",
   "execution_count": 20,
   "metadata": {},
   "outputs": [],
   "source": [
    "# interpolation...\n",
    "index_list = list(range(len(recall)))[1:-1]\n",
    "index_list.reverse()\n",
    "for i in index_list:\n",
    "    if precision[i-1]<precision[i]:\n",
    "        precision[i-1]=precision[i]"
   ]
  },
  {
   "cell_type": "code",
   "execution_count": 21,
   "metadata": {},
   "outputs": [
    {
     "data": {
      "text/plain": [
       "array([0.78428674, 0.78428674, 0.78428674, 0.78428674, 0.78428674,\n",
       "       0.78428674, 0.78428674, 0.78428674, 0.77672942, 0.77672942,\n",
       "       0.54093455, 0.54093455, 0.54093455, 0.54093455, 0.53884997,\n",
       "       0.43817724, 0.43817724, 0.43817724, 0.43817724, 0.43817724,\n",
       "       0.43817724, 0.43817724, 0.43817724, 0.43817724, 0.33853787,\n",
       "       0.29154343, 0.18883758, 0.18883758, 0.18883758, 0.09374139,\n",
       "       0.08614442, 0.08614442, 0.08614442, 0.08614442, 0.07657112,\n",
       "       0.07195661, 0.07195661, 0.07195661, 0.04872245, 0.02433865,\n",
       "       0.01656821, 0.        ])"
      ]
     },
     "execution_count": 21,
     "metadata": {},
     "output_type": "execute_result"
    }
   ],
   "source": [
    "precision"
   ]
  },
  {
   "cell_type": "code",
   "execution_count": 27,
   "metadata": {},
   "outputs": [
    {
     "name": "stderr",
     "output_type": "stream",
     "text": [
      "C:\\Users\\TBI\\Miniconda3\\envs\\gb\\lib\\site-packages\\ipykernel_launcher.py:12: UserWarning: Matplotlib is currently using module://ipykernel.pylab.backend_inline, which is a non-GUI backend, so cannot show the figure.\n",
      "  if sys.path[0] == '':\n"
     ]
    },
    {
     "data": {
      "image/png": "[encoded data removed]",
      "text/plain": [
       "<Figure size 432x288 with 1 Axes>"
      ]
     },
     "metadata": {
      "needs_background": "light"
     },
     "output_type": "display_data"
    }
   ],
   "source": [
    "\n",
    "# plotting...\n",
    "fig, ax = plt.subplots()\n",
    "for i in range(recall.shape[0]-1):\n",
    "    ax.plot((recall[i],recall[i]),(precision[i],precision[i+1]),'k-',label='',color='red') #vertical\n",
    "    ax.plot((recall[i],recall[i+1]),(precision[i+1],precision[i+1]),'k-',label='',color='red') #horizontal\n",
    "\n",
    "ax.scatter(x = recall,y = precision2,color='blue')\n",
    "#ax.legend()\n",
    "ax.set_xlabel(\"recall\")\n",
    "ax.set_ylabel(\"precision\")\n",
    "\n",
    "fig.show()"
   ]
  },
  {
   "cell_type": "code",
   "execution_count": null,
   "metadata": {},
   "outputs": [],
   "source": [
    "ax.scatter"
   ]
  },
  {
   "cell_type": "code",
   "execution_count": null,
   "metadata": {},
   "outputs": [],
   "source": []
  }
 ],
 "metadata": {
  "kernelspec": {
   "display_name": "Python [conda env:gb]",
   "language": "python",
   "name": "conda-env-gb-py"
  },
  "language_info": {
   "codemirror_mode": {
    "name": "ipython",
    "version": 3
   },
   "file_extension": ".py",
   "mimetype": "text/x-python",
   "name": "python",
   "nbconvert_exporter": "python",
   "pygments_lexer": "ipython3",
   "version": "3.6.7"
  }
 },
 "nbformat": 4,
 "nbformat_minor": 4
}

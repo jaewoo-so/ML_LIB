{
 "cells": [
  {
   "cell_type": "code",
   "execution_count": 32,
   "metadata": {},
   "outputs": [],
   "source": [
    "import sys\n",
    "sys.path.append(r'E:\\01_PProj\\ML_LIB')\n",
    "\n",
    "import Lib_sjw.training as tr\n",
    "import Lib_sjw.model_interface as mi\n",
    "import Lib_sjw.model_parmas as mp\n",
    "import Lib_sjw.evaluator as ev\n",
    "import Lib_sjw.classification_util as cu\n",
    "import Lib_sjw.training_test_binary as trb\n",
    "\n",
    "from collections import OrderedDict"
   ]
  },
  {
   "cell_type": "code",
   "execution_count": 2,
   "metadata": {},
   "outputs": [],
   "source": [
    "from sklearn.datasets import load_boston , load_iris , load_breast_cancer\n",
    "from sklearn.metrics import mean_squared_error , roc_auc_score , precision_score\n",
    "from sklearn.model_selection import train_test_split\n",
    "import numpy as np\n",
    "\n",
    "from collections import OrderedDict"
   ]
  },
  {
   "cell_type": "markdown",
   "metadata": {},
   "source": [
    "---\n",
    "# Test Fold 결과 테스트"
   ]
  },
  {
   "cell_type": "code",
   "execution_count": 3,
   "metadata": {},
   "outputs": [],
   "source": [
    "data = load_breast_cancer()\n",
    "X = data.data\n",
    "y = data.target"
   ]
  },
  {
   "cell_type": "code",
   "execution_count": 5,
   "metadata": {
    "scrolled": true
   },
   "outputs": [
    {
     "name": "stdout",
     "output_type": "stream",
     "text": [
      "xgb\n",
      "----------------------------------------------------------------------------------------------------\n",
      "----------------------------------------------------------------------------------------------------\n",
      "** Test Fold 3 on Model : myXGBBinary **\n",
      "\n",
      "* Test Fold 0 *\n",
      "Total Training Time : 0:00:01.554999  [h:m:s]\n",
      "\n",
      "* Test Fold 1 *\n",
      "Total Training Time : 0:00:01.580001  [h:m:s]\n",
      "\n",
      "* Test Fold 2 *\n",
      "Total Training Time : 0:00:01.599001  [h:m:s]\n",
      "lgb\n",
      "----------------------------------------------------------------------------------------------------\n",
      "----------------------------------------------------------------------------------------------------\n",
      "** Test Fold 3 on Model : myLGBMBinary **\n",
      "\n",
      "* Test Fold 0 *\n",
      "Total Training Time : 0:00:00.189996  [h:m:s]\n",
      "\n",
      "* Test Fold 1 *\n",
      "Total Training Time : 0:00:00.231001  [h:m:s]\n",
      "\n",
      "* Test Fold 2 *\n",
      "Total Training Time : 0:00:00.168998  [h:m:s]\n",
      "cat\n",
      "----------------------------------------------------------------------------------------------------\n",
      "----------------------------------------------------------------------------------------------------\n",
      "** Test Fold 3 on Model : myCatBoostBinary **\n",
      "\n",
      "* Test Fold 0 *\n",
      "Total Training Time : 0:00:07.954999  [h:m:s]\n",
      "\n",
      "* Test Fold 1 *\n",
      "Total Training Time : 0:00:05.856999  [h:m:s]\n",
      "\n",
      "* Test Fold 2 *\n",
      "Total Training Time : 0:00:05.519999  [h:m:s]\n",
      "rfc\n",
      "----------------------------------------------------------------------------------------------------\n",
      "----------------------------------------------------------------------------------------------------\n",
      "** Test Fold 3 on Model : myRandomForestBinary **\n",
      "\n",
      "* Test Fold 0 *\n",
      "Total Training Time : 0:00:01.648998  [h:m:s]\n",
      "\n",
      "* Test Fold 1 *\n",
      "Total Training Time : 0:00:01.644021  [h:m:s]\n",
      "\n",
      "* Test Fold 2 *\n",
      "Total Training Time : 0:00:01.658016  [h:m:s]\n",
      "svm\n",
      "----------------------------------------------------------------------------------------------------\n",
      "----------------------------------------------------------------------------------------------------\n",
      "** Test Fold 3 on Model : mySVMBinary **\n",
      "\n",
      "* Test Fold 0 *\n",
      "Total Training Time : 0:00:00.197999  [h:m:s]\n",
      "\n",
      "* Test Fold 1 *\n",
      "Total Training Time : 0:00:00.211004  [h:m:s]\n",
      "\n",
      "* Test Fold 2 *\n",
      "Total Training Time : 0:00:00.205013  [h:m:s]\n",
      "gpc\n",
      "----------------------------------------------------------------------------------------------------\n",
      "----------------------------------------------------------------------------------------------------\n",
      "** Test Fold 3 on Model : myGPBinary **\n",
      "\n",
      "* Test Fold 0 *\n",
      "Total Training Time : 0:00:00.781999  [h:m:s]\n",
      "\n",
      "* Test Fold 1 *\n",
      "Total Training Time : 0:00:00.166999  [h:m:s]\n",
      "\n",
      "* Test Fold 2 *\n",
      "Total Training Time : 0:00:00.744999  [h:m:s]\n",
      "lda\n",
      "----------------------------------------------------------------------------------------------------\n",
      "----------------------------------------------------------------------------------------------------\n",
      "** Test Fold 3 on Model : myLDABinary **\n",
      "\n",
      "* Test Fold 0 *\n",
      "Total Training Time : 0:00:00.018000  [h:m:s]\n",
      "\n",
      "* Test Fold 1 *\n",
      "Total Training Time : 0:00:00.018002  [h:m:s]\n",
      "\n",
      "* Test Fold 2 *\n",
      "Total Training Time : 0:00:00.073998  [h:m:s]\n",
      "qda\n",
      "----------------------------------------------------------------------------------------------------\n",
      "----------------------------------------------------------------------------------------------------\n",
      "** Test Fold 3 on Model : myQDABinary **\n",
      "\n",
      "* Test Fold 0 *\n",
      "Total Training Time : 0:00:00.014999  [h:m:s]\n",
      "\n",
      "* Test Fold 1 *\n",
      "Total Training Time : 0:00:00.014001  [h:m:s]\n",
      "\n",
      "* Test Fold 2 *\n",
      "Total Training Time : 0:00:00.011003  [h:m:s]\n",
      "Test_Classification_TestFold Compelte\n"
     ]
    }
   ],
   "source": [
    "res = trb.Test_Binary_TestFold(X,y,3,5)"
   ]
  },
  {
   "cell_type": "code",
   "execution_count": 23,
   "metadata": {},
   "outputs": [],
   "source": [
    "from sklearn.metrics import roc_auc_score"
   ]
  },
  {
   "cell_type": "code",
   "execution_count": 31,
   "metadata": {},
   "outputs": [
    {
     "name": "stdout",
     "output_type": "stream",
     "text": [
      "xgb\n",
      "mean : 0.98\n"
     ]
    }
   ],
   "source": [
    "model_score = OrderedDict()\n",
    "model_each_score = OrderedDict()\n",
    "\n",
    "for model_name in res:\n",
    "    print(model_name)\n",
    "    model_res = res[model_name]\n",
    "    \n",
    "    test_idx   = model_res[0]\n",
    "    prediction = model_res[1]\n",
    "    model_file = model_res[2]\n",
    "    \n",
    "    # 각 테스트 셋의 평균 \n",
    "    test_score_list = []\n",
    "    for k , idx in test_idx.items():\n",
    "        test_fold_pred = prediction[idx,:] # 각각의 테스트 셋에대한 validation갯수만큼의 예측 값이 들어있다. \n",
    "        \n",
    "        # 한개의 테스트 세트에 대해서 validation 갯수 만큼의 스코어를 저장\n",
    "        score_each_val = []\n",
    "        \n",
    "        for val_fold in range(test_fold_pred.shape[1]):\n",
    "            pred_of_valfold = test_fold_pred[:,val_fold] # validation셋 하나의 예측값만 가져온 것 \n",
    "            \n",
    "            \n",
    "            #여기서 하나의 validation에 대한 예측 값을 가지고 스코어링 \n",
    "            val_score = roc_auc_score(y[idx] , pred_of_valfold)\n",
    "            score_each_val.append(val_score)\n",
    "        \n",
    "        test_fold_score = np.array(score_each_val) # 한개의 테스트 세트에 대한 각 validation에 대해 예측값들\n",
    "        test_score_list.append(test_fold_score)\n",
    "        \n",
    "    model_all_score = np.array(test_score_list)\n",
    "    print('mean : {:.2f}'.format(model_all_score.mean()))\n",
    "    \n",
    "    # save\n",
    "    model_score['model_name'] = model_all_score.mean()\n",
    "    model_each_score['model_name'] = model_all_score"
   ]
  },
  {
   "cell_type": "code",
   "execution_count": 17,
   "metadata": {},
   "outputs": [
    {
     "data": {
      "text/plain": [
       "5"
      ]
     },
     "execution_count": 17,
     "metadata": {},
     "output_type": "execute_result"
    }
   ],
   "source": [
    "test_fold_pred.shape[1]"
   ]
  },
  {
   "cell_type": "code",
   "execution_count": 29,
   "metadata": {},
   "outputs": [
    {
     "data": {
      "text/plain": [
       "0.9843938138635735"
      ]
     },
     "execution_count": 29,
     "metadata": {},
     "output_type": "execute_result"
    }
   ],
   "source": [
    "np.array(test_score_list).mean()"
   ]
  },
  {
   "cell_type": "code",
   "execution_count": null,
   "metadata": {},
   "outputs": [],
   "source": []
  }
 ],
 "metadata": {
  "kernelspec": {
   "display_name": "Python [conda env:gb]",
   "language": "python",
   "name": "conda-env-gb-py"
  },
  "language_info": {
   "codemirror_mode": {
    "name": "ipython",
    "version": 3
   },
   "file_extension": ".py",
   "mimetype": "text/x-python",
   "name": "python",
   "nbconvert_exporter": "python",
   "pygments_lexer": "ipython3",
   "version": "3.6.7"
  }
 },
 "nbformat": 4,
 "nbformat_minor": 4
}

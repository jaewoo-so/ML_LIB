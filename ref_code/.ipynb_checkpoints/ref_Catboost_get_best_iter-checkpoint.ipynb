{
 "cells": [
  {
   "cell_type": "markdown",
   "metadata": {},
   "source": [
    "early stopping을 안쓰기 위한 전략"
   ]
  },
  {
   "cell_type": "code",
   "execution_count": 1,
   "metadata": {},
   "outputs": [
    {
     "name": "stdout",
     "output_type": "stream",
     "text": [
      "7\n"
     ]
    }
   ],
   "source": [
    "from catboost import CatBoostClassifier, Pool\n",
    "\n",
    "train_data = [[0, 3],\n",
    "              [4, 1],\n",
    "              [8, 1],\n",
    "              [9, 1]]\n",
    "\n",
    "train_labels = [0, 0, 1, 1]\n",
    "\n",
    "eval_data = [[2, 1],\n",
    "             [3, 1],\n",
    "             [9, 0],\n",
    "             [5, 3]]\n",
    "\n",
    "eval_labels = [0, 1, 1, 0]\n",
    "\n",
    "eval_dataset = Pool(eval_data,\n",
    "                    eval_labels)\n",
    "\n",
    "model = CatBoostClassifier(learning_rate=0.03, early_stopping_rounds= 10 , iterations  = 2000 , eval_metric='AUC')\n",
    "\n",
    "model.fit(train_data,\n",
    "          train_labels,\n",
    "          eval_set=eval_dataset,\n",
    "          verbose=False)\n",
    "\n",
    "print(model.get_best_iteration())"
   ]
  },
  {
   "cell_type": "markdown",
   "metadata": {},
   "source": [
    "---\n",
    "# 사용 코드"
   ]
  },
  {
   "cell_type": "code",
   "execution_count": 2,
   "metadata": {},
   "outputs": [],
   "source": [
    "import sys\n",
    "sys.path.append(r'E:\\01_PProj\\ML_LIB')\n",
    "\n",
    "import Lib_sjw.training as tr\n",
    "import Lib_sjw.model_interface as mi\n",
    "import Lib_sjw.model_parmas as mp\n",
    "import Lib_sjw.evaluator as ev\n",
    "import Lib_sjw.classification_util as cu\n",
    "\n",
    "\n",
    "from sklearn.datasets import load_boston , load_iris , load_breast_cancer\n",
    "from sklearn.metrics import mean_squared_error , roc_auc_score , precision_score\n",
    "from sklearn.model_selection import train_test_split\n",
    "import numpy as np\n",
    "\n",
    "from collections import OrderedDict"
   ]
  },
  {
   "cell_type": "code",
   "execution_count": 8,
   "metadata": {},
   "outputs": [
    {
     "name": "stdout",
     "output_type": "stream",
     "text": [
      "1305\n"
     ]
    }
   ],
   "source": [
    "data = load_boston()\n",
    "X = data.data\n",
    "y = data.target\n",
    "xtrain , xtest , ytrain , ytest = train_test_split(X , y , test_size = 0.2 )\n",
    "\n",
    "# create model\n",
    "model_generator = mi.myCatBoostRegressor()\n",
    "catparams = mp.param_cat('regression' , use_gpu= True , is_unbalance= False )\n",
    "model = model_generator.make(catparams)\n",
    "\n",
    "# training\n",
    "model.fit(xtrain,ytrain,xtest,ytest , {})\n",
    "\n",
    "print(model.model.get_best_iteration())"
   ]
  },
  {
   "cell_type": "code",
   "execution_count": 9,
   "metadata": {},
   "outputs": [],
   "source": [
    "## set earlystopping\n",
    "def Test_Regression_TestFold(X , y , nfold_test , nfold_val , verbose = True):\n",
    "    # name list \n",
    "    name_list = ['xgb',\n",
    "                 'lgb',\n",
    "                 'cat',\n",
    "                 'rfc',\n",
    "                 'elt',\n",
    "                 'svm',\n",
    "                 'gpc']\n",
    "    # model_list , param_list , \n",
    "    model_dict = OrderedDict()      \n",
    "    model_dict['xgb']  = mi.myXGBRegressor()\n",
    "    model_dict['lgb']  = mi.myLGBMRegressor()\n",
    "    model_dict['cat']  = mi.myCatBoostRegressor()\n",
    "    model_dict['rfc']  = mi.myRandomForestRegressor()\n",
    "    model_dict['elt']  = mi.myElasticNetRegressor()\n",
    "    model_dict['svm']  = mi.mySVMRegressor()\n",
    "    model_dict['gpc']  = mi.myGPRegressor() \n",
    "\n",
    "    param_list = OrderedDict()\n",
    "    param_list['xgb'] = mp.param_xgb('regression' , use_gpu= False)\n",
    "    param_list['lgb'] = mp.param_lgbm('regression' , use_gpu= False)\n",
    "    param_list['cat']  = mp.param_cat('regression' , use_gpu= True , is_unbalance= False )\n",
    "    param_list['rfc']  = mp.param_rf('regression')\n",
    "    param_list['elt']  = mp.param_elst('regression')\n",
    "    param_list['svm']  = mp.param_svm('regression')\n",
    "    param_list['gpc'] = mp.param_gpc('regression')\n",
    "    \n",
    "    ############# Add this part ##############################\n",
    "    # early_stopping_rounds 옵션이 없으면, eval_data넣어도 효과가 없다. \n",
    "    param_list['cat'].pop('early_stopping_rounds' , None)\n",
    "    param_list['cat']['iterations'] = 1305\n",
    "    #fitting parmas\n",
    "    fitpm_list = OrderedDict()\n",
    "\n",
    "    for name in name_list:\n",
    "            fitpm_list[name] = {}\n",
    "    fitpm_list['lgb'] = {'early_stopping_rounds' : 12 , 'verbose' : -1}\n",
    "    \n",
    "    # metric func\n",
    "    metric_func = mean_squared_error\n",
    "\n",
    "    auc_score_list = OrderedDict()\n",
    "    result_list = OrderedDict()\n",
    "    for name in name_list:\n",
    "        print(name)\n",
    "        print('Model : {}'.format(name))\n",
    "        test_fold_index , oof, model_list = tr.training_Testfold('regression' , model_dict[name] , param_list[name] , fitpm_list[name] ,  metric_func , X , y , nfold_test , nfold_val ) \n",
    "        result_list[name] = [test_fold_index , oof, model_list] # 모든 데이터에 대해 예측값이 oof에 저장되어 있다. \n",
    "        auc_score_list[name] = roc_auc_score(np.where(y > 25 , 1 ,0 ) , oof.mean(axis = 1))\n",
    "    return result_list\n",
    "\n"
   ]
  },
  {
   "cell_type": "code",
   "execution_count": null,
   "metadata": {},
   "outputs": [],
   "source": [
    "result =Test_Regression_TestFold(X,y,5,5)"
   ]
  },
  {
   "cell_type": "markdown",
   "metadata": {},
   "source": [
    "---"
   ]
  },
  {
   "cell_type": "code",
   "execution_count": 11,
   "metadata": {},
   "outputs": [],
   "source": [
    "# early stoppping옵션이 없으면 eval_set 넣어도 적용 안된다. \n",
    "import catboost\n",
    "\n",
    "catmodel = catboost.CatBoostRegressor(iterations = 100 ,objective = 'RMSE' , eval_metric = 'RMSE')\n",
    "\n",
    "catmodel.fit(xtrain , ytrain , eval_set=[(xtest,ytest)] , verbose = False )\n",
    "\n",
    "catmodel.get_best_iteration()"
   ]
  },
  {
   "cell_type": "code",
   "execution_count": null,
   "metadata": {},
   "outputs": [],
   "source": [
    "# early stoppping옵션이 있는데, eval_set이 없으면 적용 안된다. "
   ]
  },
  {
   "cell_type": "code",
   "execution_count": 26,
   "metadata": {},
   "outputs": [
    {
     "data": {
      "text/plain": [
       "99"
      ]
     },
     "execution_count": 26,
     "metadata": {},
     "output_type": "execute_result"
    }
   ],
   "source": [
    "catmodel = catboost.CatBoostRegressor(iterations = 100 ,objective = 'RMSE' , eval_metric = 'RMSE' , early_stopping_rounds=4)\n",
    "catmodel.fit(xtrain , ytrain , eval_set=[(xtest,ytest)] , verbose = False )\n",
    "catmodel.get_best_iteration()"
   ]
  },
  {
   "cell_type": "code",
   "execution_count": null,
   "metadata": {},
   "outputs": [],
   "source": []
  },
  {
   "cell_type": "code",
   "execution_count": 19,
   "metadata": {},
   "outputs": [],
   "source": [
    "from sklearn.model_selection import KFold"
   ]
  },
  {
   "cell_type": "code",
   "execution_count": 25,
   "metadata": {},
   "outputs": [
    {
     "name": "stdout",
     "output_type": "stream",
     "text": [
      "[  0   1   2   3   4   5   6   7   8   9  10  11  12  13  14  15  16  17\n",
      "  18  19  20  21  22  23  24  25  26  27  28  29  30  31  32  33  34  35\n",
      "  36  37  38  39  40  41  42  43  44  45  46  47  48  49  50  51  52  53\n",
      "  54  55  56  57  58  59  60  61  62  63  64  65  66  67  68  69  70  71\n",
      "  72  73  74  75  76  77  78  79  80  81  82  83  84  85  86  87  88  89\n",
      "  90  91  92  93  94  95  96  97  98  99 100 101 102 103 104 105 106 107\n",
      " 108 109 110 111 112 113 114 115 116 117 118 119 120 121 122 123 124 125\n",
      " 126 127 128 129 130 131 132 133 134 135 136 137 138 139 140 141 142 143\n",
      " 144 145 146 147 148 149 150 151 152 153 154 155 156 157 158 159 160 161\n",
      " 162 163 164 165 166 167 168 169 170 171 172 173 174 175 176 177 178 179\n",
      " 180 181 182 183 184 185 186 187 188 189 190 191 192 193 194 195 196 197\n",
      " 198 199 200 201 202 203 204 205 206 207 208 209 210 211 212 213 214 215\n",
      " 216 217 218 219 220 221 222 223 224 225 226 227 228 229 230 231 232 233\n",
      " 234 235 236 237 238 239 240 241 242 243 244 245 246 247 248 249 250 251\n",
      " 252]\n",
      "[253 254 255 256 257 258 259 260 261 262 263 264 265 266 267 268 269 270\n",
      " 271 272 273 274 275 276 277 278 279 280 281 282 283 284 285 286 287 288\n",
      " 289 290 291 292 293 294 295 296 297 298 299 300 301 302 303 304 305 306\n",
      " 307 308 309 310 311 312 313 314 315 316 317 318 319 320 321 322 323 324\n",
      " 325 326 327 328 329 330 331 332 333 334 335 336 337 338 339 340 341 342\n",
      " 343 344 345 346 347 348 349 350 351 352 353 354 355 356 357 358 359 360\n",
      " 361 362 363 364 365 366 367 368 369 370 371 372 373 374 375 376 377 378\n",
      " 379 380 381 382 383 384 385 386 387 388 389 390 391 392 393 394 395 396\n",
      " 397 398 399 400 401 402 403 404 405 406 407 408 409 410 411 412 413 414\n",
      " 415 416 417 418 419 420 421 422 423 424 425 426 427 428 429 430 431 432\n",
      " 433 434 435 436 437 438 439 440 441 442 443 444 445 446 447 448 449 450\n",
      " 451 452 453 454 455 456 457 458 459 460 461 462 463 464 465 466 467 468\n",
      " 469 470 471 472 473 474 475 476 477 478 479 480 481 482 483 484 485 486\n",
      " 487 488 489 490 491 492 493 494 495 496 497 498 499 500 501 502 503 504\n",
      " 505]\n"
     ]
    }
   ],
   "source": [
    "kfold = KFold( 2)\n",
    "\n",
    "for i , (train_index, val_index)  in enumerate(kfold.split(X,y)):\n",
    "    print(val_index)"
   ]
  },
  {
   "cell_type": "code",
   "execution_count": null,
   "metadata": {},
   "outputs": [],
   "source": []
  }
 ],
 "metadata": {
  "kernelspec": {
   "display_name": "Python [conda env:gb]",
   "language": "python",
   "name": "conda-env-gb-py"
  },
  "language_info": {
   "codemirror_mode": {
    "name": "ipython",
    "version": 3
   },
   "file_extension": ".py",
   "mimetype": "text/x-python",
   "name": "python",
   "nbconvert_exporter": "python",
   "pygments_lexer": "ipython3",
   "version": "3.6.7"
  }
 },
 "nbformat": 4,
 "nbformat_minor": 4
}

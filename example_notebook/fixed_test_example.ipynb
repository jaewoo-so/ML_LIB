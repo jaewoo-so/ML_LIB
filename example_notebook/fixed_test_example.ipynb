{
 "cells": [
  {
   "cell_type": "code",
   "execution_count": 1,
   "id": "ca92eed9-ae86-49d8-990b-271dd82977e8",
   "metadata": {},
   "outputs": [],
   "source": [
    "import sys\n",
    "sys.path.append('../')\n",
    "sys.path.append('../mllib/')\n",
    "import mllib\n",
    "\n",
    "import mllib.training as tr\n",
    "import mllib.model_interface as mi\n",
    "import mllib.model_parmas as mp\n",
    "import mllib.evaluator as ev\n",
    "import mllib.classification_util as cu\n",
    "\n",
    "from sklearn.datasets import load_breast_cancer\n",
    "from sklearn.datasets import fetch_openml\n",
    "    \n",
    "from sklearn.metrics import mean_squared_error , roc_auc_score , precision_score , roc_curve\n",
    "from sklearn.model_selection import train_test_split\n",
    "\n",
    "\n",
    "from mllib.data_class import data_fixed_test , data_fold_test\n",
    "from mllib.report import report_binary_fixed_test , report_binary_fold_test\n",
    "\n",
    "import numpy as np\n",
    "import pandas as pd\n",
    "from dotmap import DotMap\n",
    "from collections import OrderedDict\n",
    "from dotwiz import DotWiz\n"
   ]
  },
  {
   "cell_type": "code",
   "execution_count": 2,
   "id": "e8c68b6a-a981-4d82-99d1-8c0fabf8cf3f",
   "metadata": {},
   "outputs": [],
   "source": [
    "data = load_breast_cancer()\n",
    "X = data.data\n",
    "y = data.target\n",
    "df = pd.DataFrame(X, columns=data['feature_names'])\n",
    "df['target'] = y\n",
    "df = df.reset_index(drop=True)\n",
    "X = df.iloc[:, :-1] #.astype('float16')\n",
    "y = df.iloc[:, -1]\n",
    "y=y.reset_index(drop=True)\n",
    "xtrain, xtest, ytrain, ytest = train_test_split(X, y, test_size=0.2)"
   ]
  },
  {
   "cell_type": "code",
   "execution_count": 3,
   "id": "4f732e88-a239-4729-89be-daf19e36b008",
   "metadata": {},
   "outputs": [],
   "source": [
    "\n",
    "def Test_Binary_FixedTest(xtrain , ytrain , xtest  , nfold = 5 , verbose = False):\n",
    "    # name list \n",
    "    name_list = ['xgb',\n",
    "                 'lgb',]\n",
    "\n",
    "    model_list = OrderedDict()    \n",
    "    model_list = OrderedDict()    \n",
    "    model_list['xgb']  = mi.myXGBBinary()\n",
    "    model_list['lgb']  = mi.myLGBMBinary()\n",
    "\n",
    "    param_list = OrderedDict ( )\n",
    "    param_list['xgb'] = mp .param_xgb ('binary' , len(np.unique(ytrain)) , use_gpu= False )\n",
    "    param_list['lgb'] = mp .param_lgbm('binary' , len(np.unique(ytrain)) , use_gpu= False )\n",
    "\n",
    "    #fitting parmas\n",
    "    fitpm_list = OrderedDict()\n",
    "\n",
    "    for name in name_list:\n",
    "            fitpm_list[name] = {}\n",
    "    fitpm_list['lgb'] = {'early_stopping_rounds' : 12 , 'verbose' : -1}\n",
    "    #fit_cat = {}\n",
    "    #fit_xgb = {}\n",
    "    \n",
    "    # metric func\n",
    "    metric_func = roc_auc_score\n",
    "    \n",
    "    # Result\n",
    "    result_list = OrderedDict()\n",
    "\n",
    "    # Training \n",
    "\n",
    "    result_all = DotWiz()\n",
    "\n",
    "    for name in name_list:\n",
    "        print(name)\n",
    "        fold_predict , fold_oof  , fold_metric , fold_model = tr.training_fixedTest('binary' , model_list[name] , param_list[name] , fitpm_list[name] ,  \n",
    "                                                                                    metric_func , xtrain , ytrain , xtest , nfold , verbose ) \n",
    "\n",
    "        \n",
    "        result_all[name] = data_fixed_test.FixedTestData(fold_predict , fold_oof  , fold_metric , fold_model)\n",
    "    test_result = data_fixed_test.FixedTestResult(result_all)\n",
    "    return test_result"
   ]
  },
  {
   "cell_type": "code",
   "execution_count": 4,
   "id": "899b18a8-cda0-421f-8646-82d227245905",
   "metadata": {},
   "outputs": [
    {
     "name": "stdout",
     "output_type": "stream",
     "text": [
      "xgb\n",
      "lgb\n"
     ]
    }
   ],
   "source": [
    "result = Test_Binary_FixedTest(xtrain , ytrain , xtest , 3,False)"
   ]
  },
  {
   "cell_type": "code",
   "execution_count": 5,
   "id": "cb88fc92-9ba9-4045-8d81-55e467c057ff",
   "metadata": {},
   "outputs": [],
   "source": [
    "report_gen = report_binary_fixed_test.ReportBinaryFixedTest()"
   ]
  },
  {
   "cell_type": "code",
   "execution_count": 6,
   "id": "ab28df22-2064-4476-a64f-b10b2d5cbcfd",
   "metadata": {},
   "outputs": [
    {
     "ename": "AttributeError",
     "evalue": "type object 'FixedTestResult' has no attribute 'model_name'",
     "output_type": "error",
     "traceback": [
      "\u001b[1;31m---------------------------------------------------------------------------\u001b[0m",
      "\u001b[1;31mAttributeError\u001b[0m                            Traceback (most recent call last)",
      "Input \u001b[1;32mIn [6]\u001b[0m, in \u001b[0;36m<cell line: 1>\u001b[1;34m()\u001b[0m\n\u001b[1;32m----> 1\u001b[0m \u001b[43mreport_gen\u001b[49m\u001b[38;5;241;43m.\u001b[39;49m\u001b[43moof_custom_score_each_model\u001b[49m\u001b[43m(\u001b[49m\u001b[43mresult\u001b[49m\u001b[43m,\u001b[49m\u001b[43m \u001b[49m\u001b[43mytrain\u001b[49m\u001b[43m \u001b[49m\u001b[43m,\u001b[49m\u001b[43m  \u001b[49m\u001b[43mroc_auc_score\u001b[49m\u001b[43m \u001b[49m\u001b[43m)\u001b[49m\n",
      "File \u001b[1;32mD:\\08_정리\\ML_LIB\\example_notebook\\..\\mllib\\report\\report_binary_fixed_test.py:23\u001b[0m, in \u001b[0;36mReportBinaryFixedTest.oof_custom_score_each_model\u001b[1;34m(self, result, ytrain, score_func)\u001b[0m\n\u001b[0;32m     17\u001b[0m \u001b[38;5;28;01mdef\u001b[39;00m \u001b[38;5;21moof_custom_score_each_model\u001b[39m(\u001b[38;5;28mself\u001b[39m, result : FixedTestResult , ytrain , score_func) \u001b[38;5;241m-\u001b[39m\u001b[38;5;241m>\u001b[39m pd\u001b[38;5;241m.\u001b[39mDataFrame:\n\u001b[0;32m     18\u001b[0m     \u001b[38;5;124;03m'''\u001b[39;00m\n\u001b[0;32m     19\u001b[0m \u001b[38;5;124;03m    result format\u001b[39;00m\n\u001b[0;32m     20\u001b[0m \u001b[38;5;124;03m    fold_predict , fold_oof , fold_metric , fold_models = tr.training_fixedTest( )\u001b[39;00m\n\u001b[0;32m     21\u001b[0m \u001b[38;5;124;03m    result[name] = [ fold_predict , fold_oof , fold_metric , fold_models ]\u001b[39;00m\n\u001b[0;32m     22\u001b[0m \u001b[38;5;124;03m    '''\u001b[39;00m\n\u001b[1;32m---> 23\u001b[0m     model_name_first \u001b[38;5;241m=\u001b[39m \u001b[43mFixedTestResult\u001b[49m\u001b[38;5;241;43m.\u001b[39;49m\u001b[43mmodel_name\u001b[49m\n\u001b[0;32m     24\u001b[0m     fold_names  \u001b[38;5;241m=\u001b[39m \u001b[38;5;28mlist\u001b[39m(result[model_name_first][\u001b[38;5;241m0\u001b[39m]\u001b[38;5;241m.\u001b[39mkeys())\n\u001b[0;32m     25\u001b[0m     result \u001b[38;5;241m=\u001b[39m pd\u001b[38;5;241m.\u001b[39mDataFrame( columns \u001b[38;5;241m=\u001b[39m [\u001b[38;5;124m'\u001b[39m\u001b[38;5;124mmodel\u001b[39m\u001b[38;5;124m'\u001b[39m , \u001b[38;5;124m'\u001b[39m\u001b[38;5;124mscore\u001b[39m\u001b[38;5;124m'\u001b[39m])\n",
      "\u001b[1;31mAttributeError\u001b[0m: type object 'FixedTestResult' has no attribute 'model_name'"
     ]
    }
   ],
   "source": [
    "report_gen.oof_custom_score_each_model(result, ytrain ,  roc_auc_score )"
   ]
  },
  {
   "cell_type": "code",
   "execution_count": 7,
   "id": "3acc661a-f92c-41a7-a05e-d36fe66abaec",
   "metadata": {},
   "outputs": [
    {
     "ename": "AttributeError",
     "evalue": "type object 'FixedTestResult' has no attribute 'model_name'",
     "output_type": "error",
     "traceback": [
      "\u001b[1;31m---------------------------------------------------------------------------\u001b[0m",
      "\u001b[1;31mAttributeError\u001b[0m                            Traceback (most recent call last)",
      "Input \u001b[1;32mIn [7]\u001b[0m, in \u001b[0;36m<cell line: 1>\u001b[1;34m()\u001b[0m\n\u001b[1;32m----> 1\u001b[0m \u001b[43mreport_gen\u001b[49m\u001b[38;5;241;43m.\u001b[39;49m\u001b[43moof_custom_score_each_model\u001b[49m\u001b[43m(\u001b[49m\u001b[43mresult\u001b[49m\u001b[43m,\u001b[49m\u001b[43m \u001b[49m\u001b[43mytrain\u001b[49m\u001b[43m \u001b[49m\u001b[43m,\u001b[49m\u001b[43m  \u001b[49m\u001b[43mprecision_score\u001b[49m\u001b[43m \u001b[49m\u001b[43m)\u001b[49m\n",
      "File \u001b[1;32mD:\\08_정리\\ML_LIB\\example_notebook\\..\\mllib\\report\\report_binary_fixed_test.py:23\u001b[0m, in \u001b[0;36mReportBinaryFixedTest.oof_custom_score_each_model\u001b[1;34m(self, result, ytrain, score_func)\u001b[0m\n\u001b[0;32m     17\u001b[0m \u001b[38;5;28;01mdef\u001b[39;00m \u001b[38;5;21moof_custom_score_each_model\u001b[39m(\u001b[38;5;28mself\u001b[39m, result : FixedTestResult , ytrain , score_func) \u001b[38;5;241m-\u001b[39m\u001b[38;5;241m>\u001b[39m pd\u001b[38;5;241m.\u001b[39mDataFrame:\n\u001b[0;32m     18\u001b[0m     \u001b[38;5;124;03m'''\u001b[39;00m\n\u001b[0;32m     19\u001b[0m \u001b[38;5;124;03m    result format\u001b[39;00m\n\u001b[0;32m     20\u001b[0m \u001b[38;5;124;03m    fold_predict , fold_oof , fold_metric , fold_models = tr.training_fixedTest( )\u001b[39;00m\n\u001b[0;32m     21\u001b[0m \u001b[38;5;124;03m    result[name] = [ fold_predict , fold_oof , fold_metric , fold_models ]\u001b[39;00m\n\u001b[0;32m     22\u001b[0m \u001b[38;5;124;03m    '''\u001b[39;00m\n\u001b[1;32m---> 23\u001b[0m     model_name_first \u001b[38;5;241m=\u001b[39m \u001b[43mFixedTestResult\u001b[49m\u001b[38;5;241;43m.\u001b[39;49m\u001b[43mmodel_name\u001b[49m\n\u001b[0;32m     24\u001b[0m     fold_names  \u001b[38;5;241m=\u001b[39m \u001b[38;5;28mlist\u001b[39m(result[model_name_first][\u001b[38;5;241m0\u001b[39m]\u001b[38;5;241m.\u001b[39mkeys())\n\u001b[0;32m     25\u001b[0m     result \u001b[38;5;241m=\u001b[39m pd\u001b[38;5;241m.\u001b[39mDataFrame( columns \u001b[38;5;241m=\u001b[39m [\u001b[38;5;124m'\u001b[39m\u001b[38;5;124mmodel\u001b[39m\u001b[38;5;124m'\u001b[39m , \u001b[38;5;124m'\u001b[39m\u001b[38;5;124mscore\u001b[39m\u001b[38;5;124m'\u001b[39m])\n",
      "\u001b[1;31mAttributeError\u001b[0m: type object 'FixedTestResult' has no attribute 'model_name'"
     ]
    }
   ],
   "source": [
    "report_gen.oof_custom_score_each_model(result, ytrain ,  precision_score )"
   ]
  },
  {
   "cell_type": "code",
   "execution_count": 9,
   "id": "9027b7a0-d60a-4414-931e-da9d37806fb7",
   "metadata": {},
   "outputs": [
    {
     "ename": "AttributeError",
     "evalue": "'FixedTestData' object has no attribute 'keys'",
     "output_type": "error",
     "traceback": [
      "\u001b[1;31m---------------------------------------------------------------------------\u001b[0m",
      "\u001b[1;31mAttributeError\u001b[0m                            Traceback (most recent call last)",
      "Input \u001b[1;32mIn [9]\u001b[0m, in \u001b[0;36m<cell line: 1>\u001b[1;34m()\u001b[0m\n\u001b[1;32m----> 1\u001b[0m \u001b[43mresult\u001b[49m\u001b[38;5;241;43m.\u001b[39;49m\u001b[43mxgb\u001b[49m\u001b[38;5;241;43m.\u001b[39;49m\u001b[43mkeys\u001b[49m()\n",
      "\u001b[1;31mAttributeError\u001b[0m: 'FixedTestData' object has no attribute 'keys'"
     ]
    }
   ],
   "source": [
    "result.xgb.keys()\n"
   ]
  },
  {
   "cell_type": "code",
   "execution_count": 12,
   "id": "cdbe8bdd-9b18-4bb9-9bd9-bd0a01b3cd2e",
   "metadata": {},
   "outputs": [
    {
     "data": {
      "text/plain": [
       "'xgb'"
      ]
     },
     "execution_count": 12,
     "metadata": {},
     "output_type": "execute_result"
    }
   ],
   "source": [
    "list(result.result.keys())[0]"
   ]
  },
  {
   "cell_type": "code",
   "execution_count": null,
   "id": "4b58027a-5bf1-4db7-a308-4f8e83579985",
   "metadata": {},
   "outputs": [],
   "source": []
  }
 ],
 "metadata": {
  "kernelspec": {
   "display_name": "Python [conda env:nlp38]",
   "language": "python",
   "name": "conda-env-nlp38-py"
  },
  "language_info": {
   "codemirror_mode": {
    "name": "ipython",
    "version": 3
   },
   "file_extension": ".py",
   "mimetype": "text/x-python",
   "name": "python",
   "nbconvert_exporter": "python",
   "pygments_lexer": "ipython3",
   "version": "3.8.13"
  }
 },
 "nbformat": 4,
 "nbformat_minor": 5
}

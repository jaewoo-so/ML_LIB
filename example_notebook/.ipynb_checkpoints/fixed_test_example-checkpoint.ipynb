{
 "cells": [
  {
   "cell_type": "code",
   "execution_count": 10,
   "id": "ca92eed9-ae86-49d8-990b-271dd82977e8",
   "metadata": {},
   "outputs": [
    {
     "ename": "ModuleNotFoundError",
     "evalue": "No module named 'report'",
     "output_type": "error",
     "traceback": [
      "\u001b[1;31m---------------------------------------------------------------------------\u001b[0m",
      "\u001b[1;31mModuleNotFoundError\u001b[0m                       Traceback (most recent call last)",
      "Input \u001b[1;32mIn [10]\u001b[0m, in \u001b[0;36m<cell line: 19>\u001b[1;34m()\u001b[0m\n\u001b[0;32m     15\u001b[0m \u001b[38;5;28;01mfrom\u001b[39;00m \u001b[38;5;21;01msklearn\u001b[39;00m\u001b[38;5;21;01m.\u001b[39;00m\u001b[38;5;21;01mmodel_selection\u001b[39;00m \u001b[38;5;28;01mimport\u001b[39;00m train_test_split\n\u001b[0;32m     18\u001b[0m \u001b[38;5;28;01mfrom\u001b[39;00m \u001b[38;5;21;01mmllib\u001b[39;00m\u001b[38;5;21;01m.\u001b[39;00m\u001b[38;5;21;01mdata_class\u001b[39;00m \u001b[38;5;28;01mimport\u001b[39;00m data_fixed_test , data_fold_test\n\u001b[1;32m---> 19\u001b[0m \u001b[38;5;28;01mfrom\u001b[39;00m \u001b[38;5;21;01mmllib\u001b[39;00m\u001b[38;5;21;01m.\u001b[39;00m\u001b[38;5;21;01mreport\u001b[39;00m \u001b[38;5;28;01mimport\u001b[39;00m report_binary_fixed_test , report_binary_fold_test\n\u001b[0;32m     21\u001b[0m \u001b[38;5;28;01mimport\u001b[39;00m \u001b[38;5;21;01mnumpy\u001b[39;00m \u001b[38;5;28;01mas\u001b[39;00m \u001b[38;5;21;01mnp\u001b[39;00m\n\u001b[0;32m     22\u001b[0m \u001b[38;5;28;01mimport\u001b[39;00m \u001b[38;5;21;01mpandas\u001b[39;00m \u001b[38;5;28;01mas\u001b[39;00m \u001b[38;5;21;01mpd\u001b[39;00m\n",
      "File \u001b[1;32mD:\\08_정리\\ML_LIB\\example_notebook\\..\\mllib\\report\\report_binary_fixed_test.py:10\u001b[0m, in \u001b[0;36m<module>\u001b[1;34m\u001b[0m\n\u001b[0;32m      8\u001b[0m \u001b[38;5;28;01mfrom\u001b[39;00m \u001b[38;5;21;01mcollections\u001b[39;00m \u001b[38;5;28;01mimport\u001b[39;00m OrderedDict\n\u001b[0;32m      9\u001b[0m \u001b[38;5;28;01mfrom\u001b[39;00m \u001b[38;5;21;01msklearn\u001b[39;00m\u001b[38;5;21;01m.\u001b[39;00m\u001b[38;5;21;01mmetrics\u001b[39;00m \u001b[38;5;28;01mimport\u001b[39;00m accuracy_score\n\u001b[1;32m---> 10\u001b[0m \u001b[38;5;28;01mfrom\u001b[39;00m \u001b[38;5;21;01mreport\u001b[39;00m \u001b[38;5;28;01mimport\u001b[39;00m report_base\n\u001b[0;32m     11\u001b[0m \u001b[38;5;28;01mfrom\u001b[39;00m \u001b[38;5;21;01mdata_class\u001b[39;00m\u001b[38;5;21;01m.\u001b[39;00m\u001b[38;5;21;01mdata_fixed_test\u001b[39;00m \u001b[38;5;28;01mimport\u001b[39;00m FixedTestData, FixedTestResult\n\u001b[0;32m     13\u001b[0m \u001b[38;5;28;01mclass\u001b[39;00m \u001b[38;5;21;01mReportBinaryFixedTest\u001b[39;00m(report_base\u001b[38;5;241m.\u001b[39mReport):\n",
      "\u001b[1;31mModuleNotFoundError\u001b[0m: No module named 'report'"
     ]
    }
   ],
   "source": [
    "import sys\n",
    "sys.path.append('../')\n",
    "sys.path.append('../')\n",
    "import mllib\n",
    "\n",
    "import mllib.training as tr\n",
    "import mllib.model_interface as mi\n",
    "import mllib.model_parmas as mp\n",
    "import mllib.evaluator as ev\n",
    "import mllib.classification_util as cu\n",
    "\n",
    "from sklearn.datasets import load_breast_cancer\n",
    "from sklearn.datasets import fetch_openml\n",
    "    \n",
    "from sklearn.metrics import mean_squared_error , roc_auc_score , precision_score , roc_curve\n",
    "from sklearn.model_selection import train_test_split\n",
    "\n",
    "\n",
    "from mllib.data_class import data_fixed_test , data_fold_test\n",
    "from mllib.report import report_binary_fixed_test , report_binary_fold_test\n",
    "\n",
    "import numpy as np\n",
    "import pandas as pd\n",
    "from dotmap import DotMap\n",
    "from collections import OrderedDict\n"
   ]
  },
  {
   "cell_type": "code",
   "execution_count": 11,
   "id": "e8c68b6a-a981-4d82-99d1-8c0fabf8cf3f",
   "metadata": {},
   "outputs": [],
   "source": [
    "data = load_breast_cancer()\n",
    "X = data.data\n",
    "y = data.target\n",
    "df = pd.DataFrame(X, columns=data['feature_names'])\n",
    "df['target'] = y\n",
    "df = df.reset_index(drop=True)\n",
    "X = df.iloc[:, :-1] #.astype('float16')\n",
    "y = df.iloc[:, -1]\n",
    "y=y.reset_index(drop=True)\n",
    "xtrain, xtest, ytrain, ytest = train_test_split(X, y, test_size=0.2)"
   ]
  },
  {
   "cell_type": "code",
   "execution_count": 8,
   "id": "4f732e88-a239-4729-89be-daf19e36b008",
   "metadata": {},
   "outputs": [],
   "source": [
    "\n",
    "def Test_Binary_FixedTest(xtrain , ytrain , xtest  , nfold = 5 , verbose = False):\n",
    "    # name list \n",
    "    name_list = ['xgb',\n",
    "                 'lgb',]\n",
    "\n",
    "    model_list = OrderedDict()    \n",
    "    model_list = OrderedDict()    \n",
    "    model_list['xgb']  = mi.myXGBBinary()\n",
    "    model_list['lgb']  = mi.myLGBMBinary()\n",
    "\n",
    "    param_list = OrderedDict ( )\n",
    "    param_list['xgb'] = mp .param_xgb ('binary' , len(np.unique(ytrain)) , use_gpu= False )\n",
    "    param_list['lgb'] = mp .param_lgbm('binary' , len(np.unique(ytrain)) , use_gpu= False )\n",
    "\n",
    "    #fitting parmas\n",
    "    fitpm_list = OrderedDict()\n",
    "\n",
    "    for name in name_list:\n",
    "            fitpm_list[name] = {}\n",
    "    fitpm_list['lgb'] = {'early_stopping_rounds' : 12 , 'verbose' : -1}\n",
    "    #fit_cat = {}\n",
    "    #fit_xgb = {}\n",
    "    \n",
    "    # metric func\n",
    "    metric_func = roc_auc_score\n",
    "    \n",
    "    # Result\n",
    "    result_list = OrderedDict()\n",
    "\n",
    "    # Training \n",
    "\n",
    "    result_all = DotMap()\n",
    "\n",
    "    for name in name_list:\n",
    "        print(name)\n",
    "        fold_predict , fold_oof  , fold_metric , fold_model = tr.training_fixedTest('binary' , model_list[name] , param_list[name] , fitpm_list[name] ,  \n",
    "                                                                                    metric_func , xtrain , ytrain , xtest , nfold , verbose ) \n",
    "\n",
    "        \n",
    "        result_all[name] = data_fixed_test.FixedTestData(fold_predict , fold_oof  , fold_metric , fold_model)\n",
    "       \n",
    "    return result_all\n"
   ]
  },
  {
   "cell_type": "code",
   "execution_count": 9,
   "id": "899b18a8-cda0-421f-8646-82d227245905",
   "metadata": {},
   "outputs": [
    {
     "name": "stdout",
     "output_type": "stream",
     "text": [
      "xgb\n"
     ]
    },
    {
     "ename": "NameError",
     "evalue": "name 'data_fixed_test' is not defined",
     "output_type": "error",
     "traceback": [
      "\u001b[1;31m---------------------------------------------------------------------------\u001b[0m",
      "\u001b[1;31mNameError\u001b[0m                                 Traceback (most recent call last)",
      "Input \u001b[1;32mIn [9]\u001b[0m, in \u001b[0;36m<cell line: 1>\u001b[1;34m()\u001b[0m\n\u001b[1;32m----> 1\u001b[0m result \u001b[38;5;241m=\u001b[39m \u001b[43mTest_Binary_FixedTest\u001b[49m\u001b[43m(\u001b[49m\u001b[43mxtrain\u001b[49m\u001b[43m \u001b[49m\u001b[43m,\u001b[49m\u001b[43m \u001b[49m\u001b[43mytrain\u001b[49m\u001b[43m \u001b[49m\u001b[43m,\u001b[49m\u001b[43m \u001b[49m\u001b[43mxtest\u001b[49m\u001b[43m \u001b[49m\u001b[43m,\u001b[49m\u001b[43m \u001b[49m\u001b[38;5;241;43m3\u001b[39;49m\u001b[43m,\u001b[49m\u001b[38;5;28;43;01mFalse\u001b[39;49;00m\u001b[43m)\u001b[49m\n",
      "Input \u001b[1;32mIn [8]\u001b[0m, in \u001b[0;36mTest_Binary_FixedTest\u001b[1;34m(xtrain, ytrain, xtest, nfold, verbose)\u001b[0m\n\u001b[0;32m     35\u001b[0m     \u001b[38;5;28mprint\u001b[39m(name)\n\u001b[0;32m     36\u001b[0m     fold_predict , fold_oof  , fold_metric , fold_model \u001b[38;5;241m=\u001b[39m tr\u001b[38;5;241m.\u001b[39mtraining_fixedTest(\u001b[38;5;124m'\u001b[39m\u001b[38;5;124mbinary\u001b[39m\u001b[38;5;124m'\u001b[39m , model_list[name] , param_list[name] , fitpm_list[name] ,  \n\u001b[0;32m     37\u001b[0m                                                                                 metric_func , xtrain , ytrain , xtest , nfold , verbose ) \n\u001b[1;32m---> 40\u001b[0m     result_all[name] \u001b[38;5;241m=\u001b[39m \u001b[43mdata_fixed_test\u001b[49m\u001b[38;5;241m.\u001b[39mFixedTestData(fold_predict , fold_oof  , fold_metric , fold_model)\n\u001b[0;32m     42\u001b[0m \u001b[38;5;28;01mreturn\u001b[39;00m result_all\n",
      "\u001b[1;31mNameError\u001b[0m: name 'data_fixed_test' is not defined"
     ]
    }
   ],
   "source": [
    "result = Test_Binary_FixedTest(xtrain , ytrain , xtest , 3,False)"
   ]
  },
  {
   "cell_type": "code",
   "execution_count": 14,
   "id": "93b1aed7-7b37-47db-846c-9414f4a98c74",
   "metadata": {},
   "outputs": [
    {
     "data": {
      "text/plain": [
       "OrderedDict([('fold0',\n",
       "              array([0.10583159, 0.8769826 , 0.9080618 , 0.9286791 , 0.9286791 ,\n",
       "                     0.9286791 , 0.21362866, 0.9286791 , 0.9286791 , 0.9286791 ,\n",
       "                     0.9286791 , 0.07498466, 0.9286791 , 0.1059617 , 0.15980777,\n",
       "                     0.37666354, 0.9004681 , 0.9286791 , 0.07498466, 0.56704503,\n",
       "                     0.9286791 , 0.36648077, 0.73565805, 0.07498466, 0.7952224 ,\n",
       "                     0.70790946, 0.8476735 , 0.08005085, 0.07498466, 0.9286791 ,\n",
       "                     0.1495094 , 0.07498466, 0.424371  , 0.9286791 , 0.24231288,\n",
       "                     0.9185656 , 0.9286791 , 0.07498466, 0.07498466, 0.08005085,\n",
       "                     0.08005085, 0.07498466, 0.9286791 , 0.92740977, 0.9286791 ,\n",
       "                     0.07498466, 0.9286791 , 0.07498466, 0.07498466, 0.90318596,\n",
       "                     0.7440291 , 0.14552514, 0.9237039 , 0.07498466, 0.9286791 ,\n",
       "                     0.13104126, 0.07498466, 0.91279215, 0.07498466, 0.9286791 ,\n",
       "                     0.6382061 , 0.9286791 , 0.90916234, 0.10583159, 0.85396004,\n",
       "                     0.9286791 , 0.9286791 , 0.9095442 , 0.9286791 , 0.90271264,\n",
       "                     0.10590376, 0.08338349, 0.9286791 , 0.9286791 , 0.7277731 ,\n",
       "                     0.92740977, 0.07498466, 0.9286791 , 0.9286791 , 0.9286791 ,\n",
       "                     0.8867319 , 0.9286791 , 0.07812429, 0.1325099 , 0.9286791 ,\n",
       "                     0.9286791 , 0.9286791 , 0.9286791 , 0.9286791 , 0.8838215 ,\n",
       "                     0.07498466, 0.9006254 , 0.7102479 , 0.9286791 , 0.9286791 ,\n",
       "                     0.9286791 , 0.9286791 , 0.07498466, 0.67729217, 0.8125001 ,\n",
       "                     0.9286791 , 0.9286791 , 0.9286791 , 0.9286791 , 0.07498466,\n",
       "                     0.92517245, 0.9286791 , 0.8905362 , 0.7847986 , 0.25368175,\n",
       "                     0.9286791 , 0.09115115, 0.9286791 , 0.1683242 ], dtype=float32)),\n",
       "             ('fold1',\n",
       "              array([0.42102695, 0.7430903 , 0.9185928 , 0.9282556 , 0.9282556 ,\n",
       "                     0.90454435, 0.29801753, 0.9271776 , 0.9282556 , 0.9282556 ,\n",
       "                     0.9282556 , 0.07532021, 0.9282556 , 0.11351295, 0.28623298,\n",
       "                     0.07596472, 0.82444084, 0.7680921 , 0.07532021, 0.27441448,\n",
       "                     0.9282556 , 0.69088197, 0.22925025, 0.07532021, 0.2397383 ,\n",
       "                     0.41032878, 0.91321415, 0.08281714, 0.07532021, 0.9282556 ,\n",
       "                     0.07532021, 0.07532021, 0.07596472, 0.9087797 , 0.10376433,\n",
       "                     0.91681683, 0.9282556 , 0.07532021, 0.07532021, 0.08281714,\n",
       "                     0.08281714, 0.07532021, 0.9278509 , 0.9282556 , 0.9282556 ,\n",
       "                     0.07596472, 0.7471116 , 0.07532021, 0.07532021, 0.7818099 ,\n",
       "                     0.6915845 , 0.10433309, 0.9271776 , 0.07532021, 0.9282556 ,\n",
       "                     0.8320721 , 0.07532021, 0.9282556 , 0.07532021, 0.9282556 ,\n",
       "                     0.24203518, 0.9282556 , 0.8206421 , 0.35136104, 0.83500415,\n",
       "                     0.9282556 , 0.9282556 , 0.9282556 , 0.9067794 , 0.8744216 ,\n",
       "                     0.10854028, 0.09261458, 0.9282556 , 0.9246817 , 0.57544374,\n",
       "                     0.9282556 , 0.07532021, 0.92705137, 0.9282556 , 0.9282556 ,\n",
       "                     0.7581071 , 0.9282556 , 0.08431228, 0.07532021, 0.7545167 ,\n",
       "                     0.9282556 , 0.9262906 , 0.9282556 , 0.91568786, 0.9271008 ,\n",
       "                     0.07532021, 0.75405073, 0.61873174, 0.9282556 , 0.9282556 ,\n",
       "                     0.9282556 , 0.9282556 , 0.07596472, 0.6005655 , 0.7400338 ,\n",
       "                     0.9282556 , 0.91868037, 0.9282556 , 0.9282556 , 0.07532021,\n",
       "                     0.92705137, 0.9282556 , 0.92587477, 0.9090979 , 0.21833678,\n",
       "                     0.9282556 , 0.19391046, 0.87026066, 0.22968772], dtype=float32)),\n",
       "             ('fold2',\n",
       "              array([0.24048673, 0.9191463 , 0.9257343 , 0.9239402 , 0.92442495,\n",
       "                     0.9007677 , 0.48706934, 0.92424726, 0.92793155, 0.92793155,\n",
       "                     0.92793155, 0.07599489, 0.92793155, 0.39463547, 0.11852388,\n",
       "                     0.17655262, 0.9214495 , 0.88031316, 0.07599489, 0.15245877,\n",
       "                     0.92793155, 0.35386926, 0.28974015, 0.07599489, 0.16037361,\n",
       "                     0.8088954 , 0.91732794, 0.07599489, 0.07599489, 0.92793155,\n",
       "                     0.07599489, 0.07599489, 0.15009207, 0.92793155, 0.29918027,\n",
       "                     0.9012768 , 0.92793155, 0.07940704, 0.07599489, 0.07599489,\n",
       "                     0.07599489, 0.07599489, 0.92664737, 0.91442204, 0.92793155,\n",
       "                     0.11464849, 0.84823406, 0.07599489, 0.07599489, 0.8162429 ,\n",
       "                     0.8204735 , 0.1660975 , 0.92793155, 0.11817713, 0.92793155,\n",
       "                     0.81240124, 0.07599489, 0.92793155, 0.07599489, 0.92793155,\n",
       "                     0.35080448, 0.92793155, 0.84961903, 0.47949207, 0.7592453 ,\n",
       "                     0.92793155, 0.92793155, 0.92449677, 0.92664737, 0.9238496 ,\n",
       "                     0.15224741, 0.0772625 , 0.92793155, 0.9012768 , 0.60041696,\n",
       "                     0.91442204, 0.07599489, 0.92793155, 0.92793155, 0.92793155,\n",
       "                     0.6800899 , 0.92793155, 0.08349598, 0.07599489, 0.8858412 ,\n",
       "                     0.92793155, 0.92793155, 0.92793155, 0.9012768 , 0.8724343 ,\n",
       "                     0.07599489, 0.9072942 , 0.82269275, 0.92793155, 0.92793155,\n",
       "                     0.92793155, 0.9257343 , 0.12994944, 0.33687857, 0.631728  ,\n",
       "                     0.92793155, 0.92793155, 0.92793155, 0.92793155, 0.07599489,\n",
       "                     0.92793155, 0.91616756, 0.92793155, 0.83395416, 0.19831096,\n",
       "                     0.92793155, 0.11092649, 0.9024571 , 0.17120947], dtype=float32))])"
      ]
     },
     "execution_count": 14,
     "metadata": {},
     "output_type": "execute_result"
    }
   ],
   "source": [
    "result['xgb'][0]"
   ]
  },
  {
   "cell_type": "code",
   "execution_count": null,
   "id": "f41f4c57-33fa-4aed-a5d9-fa5723d4f82d",
   "metadata": {},
   "outputs": [],
   "source": []
  }
 ],
 "metadata": {
  "kernelspec": {
   "display_name": "nlp38",
   "language": "python",
   "name": "python3"
  },
  "language_info": {
   "codemirror_mode": {
    "name": "ipython",
    "version": 3
   },
   "file_extension": ".py",
   "mimetype": "text/x-python",
   "name": "python",
   "nbconvert_exporter": "python",
   "pygments_lexer": "ipython3",
   "version": "3.8.13 | packaged by conda-forge | (default, Mar 25 2022, 05:59:45) [MSC v.1929 64 bit (AMD64)]"
  },
  "vscode": {
   "interpreter": {
    "hash": "26ab5b3b6e6f698513e484fff06ebf525c328c6f03b682d3199bfb9536b458f3"
   }
  }
 },
 "nbformat": 4,
 "nbformat_minor": 5
}
